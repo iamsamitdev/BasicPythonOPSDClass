{
 "cells": [
  {
   "attachments": {},
   "cell_type": "markdown",
   "metadata": {},
   "source": [
    "#### Step 1: Instll dash and plotly lib"
   ]
  },
  {
   "cell_type": "code",
   "execution_count": null,
   "metadata": {},
   "outputs": [],
   "source": [
    "pip install dash plotly"
   ]
  },
  {
   "attachments": {},
   "cell_type": "markdown",
   "metadata": {},
   "source": [
    "#### Step 2 Create Code"
   ]
  },
  {
   "cell_type": "code",
   "execution_count": null,
   "metadata": {},
   "outputs": [],
   "source": [
    "import dash\n",
    "import dash_core_components as dcc\n",
    "import dash_html_components as html\n",
    "\n",
    "app = dash.Dash()\n",
    "\n",
    "app.layout = html.Div([\n",
    "  html.H1('My Dashboard'),\n",
    "  dcc.Graph(\n",
    "    id='example-graph',\n",
    "    figure={\n",
    "      'data': [\n",
    "        {'x': [1, 2, 3], 'y': [4, 1, 2], 'type': 'bar', 'name': 'SF'},\n",
    "        {'x': [1, 2, 3], 'y': [2, 4, 5], 'type': 'bar', 'name': 'NYC'},\n",
    "      ],\n",
    "      'layout': {\n",
    "        'title': 'Bar Charts'\n",
    "      }\n",
    "    }\n",
    "  )\n",
    "])\n",
    "\n",
    "if __name__ == '__main__':\n",
    "  app.run_server()\n",
    "  "
   ]
  },
  {
   "cell_type": "code",
   "execution_count": 7,
   "metadata": {},
   "outputs": [
    {
     "name": "stdout",
     "output_type": "stream",
     "text": [
      "Package                  Version\n",
      "------------------------ -----------\n",
      "anyio                    3.6.2\n",
      "argon2-cffi              21.3.0\n",
      "argon2-cffi-bindings     21.2.0\n",
      "arrow                    1.2.3\n",
      "asttokens                2.2.1\n",
      "attrs                    22.1.0\n",
      "backcall                 0.2.0\n",
      "beautifulsoup4           4.11.1\n",
      "bleach                   5.0.1\n",
      "cffi                     1.15.1\n",
      "click                    8.1.3\n",
      "colorama                 0.4.6\n",
      "comm                     0.1.2\n",
      "dash                     2.7.1\n",
      "dash-core-components     2.0.0\n",
      "dash-html-components     2.0.0\n",
      "dash-table               5.0.0\n",
      "debugpy                  1.6.4\n",
      "decorator                5.1.1\n",
      "defusedxml               0.7.1\n",
      "entrypoints              0.4\n",
      "executing                1.2.0\n",
      "fastjsonschema           2.16.2\n",
      "Flask                    2.2.2\n",
      "fqdn                     1.5.1\n",
      "idna                     3.4\n",
      "ipykernel                6.19.2\n",
      "ipython                  8.7.0\n",
      "ipython-genutils         0.2.0\n",
      "ipywidgets               8.0.3\n",
      "isoduration              20.11.0\n",
      "itsdangerous             2.1.2\n",
      "jedi                     0.18.2\n",
      "Jinja2                   3.1.2\n",
      "jsonpointer              2.3\n",
      "jsonschema               4.17.3\n",
      "jupyter                  1.0.0\n",
      "jupyter_client           7.4.8\n",
      "jupyter-console          6.4.4\n",
      "jupyter_core             5.1.0\n",
      "jupyter-events           0.5.0\n",
      "jupyter_server           2.0.1\n",
      "jupyter_server_terminals 0.4.2\n",
      "jupyterlab-pygments      0.2.2\n",
      "jupyterlab-widgets       3.0.4\n",
      "MarkupSafe               2.1.1\n",
      "matplotlib-inline        0.1.6\n",
      "mistune                  2.0.4\n",
      "nbclassic                0.4.8\n",
      "nbclient                 0.7.2\n",
      "nbconvert                7.2.6\n",
      "nbformat                 5.7.0\n",
      "nest-asyncio             1.5.6\n",
      "notebook                 6.5.2\n",
      "notebook_shim            0.2.2\n",
      "packaging                22.0\n",
      "pandocfilters            1.5.0\n",
      "parso                    0.8.3\n",
      "pickleshare              0.7.5\n",
      "pip                      22.3.1\n",
      "platformdirs             2.6.0\n",
      "plotly                   5.11.0\n",
      "prometheus-client        0.15.0\n",
      "prompt-toolkit           3.0.36\n",
      "psutil                   5.9.4\n",
      "pure-eval                0.2.2\n",
      "pycparser                2.21\n",
      "Pygments                 2.13.0\n",
      "pyrsistent               0.19.2\n",
      "python-dateutil          2.8.2\n",
      "python-json-logger       2.0.4\n",
      "pywin32                  305\n",
      "pywinpty                 2.0.9\n",
      "PyYAML                   6.0\n",
      "pyzmq                    24.0.1\n",
      "qtconsole                5.4.0\n",
      "QtPy                     2.3.0\n",
      "rfc3339-validator        0.1.4\n",
      "rfc3986-validator        0.1.1\n",
      "Send2Trash               1.8.0\n",
      "setuptools               57.4.0\n",
      "six                      1.16.0\n",
      "sniffio                  1.3.0\n",
      "soupsieve                2.3.2.post1\n",
      "stack-data               0.6.2\n",
      "tenacity                 8.1.0\n",
      "terminado                0.17.1\n",
      "tinycss2                 1.2.1\n",
      "tornado                  6.2\n",
      "traitlets                5.7.1\n",
      "uri-template             1.2.0\n",
      "wcwidth                  0.2.5\n",
      "webcolors                1.12\n",
      "webencodings             0.5.1\n",
      "websocket-client         1.4.2\n",
      "Werkzeug                 2.2.2\n",
      "widgetsnbextension       4.0.4\n",
      "Note: you may need to restart the kernel to use updated packages.\n"
     ]
    }
   ],
   "source": [
    "pip list"
   ]
  }
 ],
 "metadata": {
  "kernelspec": {
   "display_name": "env",
   "language": "python",
   "name": "python3"
  },
  "language_info": {
   "codemirror_mode": {
    "name": "ipython",
    "version": 3
   },
   "file_extension": ".py",
   "mimetype": "text/x-python",
   "name": "python",
   "nbconvert_exporter": "python",
   "pygments_lexer": "ipython3",
   "version": "3.10.0"
  },
  "orig_nbformat": 4,
  "vscode": {
   "interpreter": {
    "hash": "18390edc9a643f248f9f87c8385b8eec0c5a27d5a613c4ac37f7b77e579845c9"
   }
  }
 },
 "nbformat": 4,
 "nbformat_minor": 2
}
