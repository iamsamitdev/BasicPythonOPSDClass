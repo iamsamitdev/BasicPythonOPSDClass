{
 "cells": [
  {
   "cell_type": "code",
   "execution_count": 2,
   "metadata": {},
   "outputs": [
    {
     "name": "stdout",
     "output_type": "stream",
     "text": [
      "Name, Points and Accuracy from records with accuracy greater than 85\n",
      "Kadanes Algo 15 90.5\n",
      "REVERSE STR 5 100.0\n",
      "\n",
      "Name, Accuracy from records with accuracy greater than 85\n",
      "Kadanes Algo 90.5\n",
      "REVERSE STR 100.0\n"
     ]
    }
   ],
   "source": [
    "# import the sqlite3 package\n",
    "import sqlite3\n",
    "\n",
    "# create a database named backup\n",
    "cnt = sqlite3.connect(\"sampledb.sqlite\")\n",
    "\n",
    "# Python3 code to read data from a table\n",
    "\n",
    "print('Name, Points and Accuracy from '\n",
    "\t'records with accuracy greater than 85')\n",
    "\n",
    "cursor = cnt.execute('''SELECT * FROM sensor WHERE ACCURACY>85;''')\n",
    "\n",
    "# print data using the cursor object\n",
    "for i in cursor:\n",
    "\tprint(i[0]+\" \"+str(i[1])+\" \"+str(i[2]))\n",
    "\n",
    "print('') # Print new line\n",
    "\n",
    "print('Name, Accuracy from '\n",
    "\t'records with accuracy greater than 85')\n",
    "\n",
    "cursor = cnt.execute('''SELECT NAME, ACCURACY FROM\n",
    "sensor WHERE ACCURACY>85;''')\n",
    "\n",
    "# print data using the cursor object\n",
    "for i in cursor:\n",
    "\tprint(i[0]+\" \"+str(i[1]))\n"
   ]
  }
 ],
 "metadata": {
  "kernelspec": {
   "display_name": "env",
   "language": "python",
   "name": "python3"
  },
  "language_info": {
   "codemirror_mode": {
    "name": "ipython",
    "version": 3
   },
   "file_extension": ".py",
   "mimetype": "text/x-python",
   "name": "python",
   "nbconvert_exporter": "python",
   "pygments_lexer": "ipython3",
   "version": "3.10.0"
  },
  "orig_nbformat": 4,
  "vscode": {
   "interpreter": {
    "hash": "18390edc9a643f248f9f87c8385b8eec0c5a27d5a613c4ac37f7b77e579845c9"
   }
  }
 },
 "nbformat": 4,
 "nbformat_minor": 2
}
