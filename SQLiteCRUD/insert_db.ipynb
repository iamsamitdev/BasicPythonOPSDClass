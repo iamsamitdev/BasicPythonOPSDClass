{
 "cells": [
  {
   "cell_type": "code",
   "execution_count": null,
   "metadata": {},
   "outputs": [],
   "source": [
    "# import the sqlite3 package\n",
    "import sqlite3\n",
    "\n",
    "# create a database named backup\n",
    "cnt = sqlite3.connect(\"sampledb.sqlite\")\n",
    "\n",
    "# Python3 Code to insert data into\n",
    "# the database\n",
    "\n",
    "# Insert three tuples into the gfg table\n",
    "# insert in default order\n",
    "cnt.execute('''INSERT INTO sensor VALUES(\n",
    "'Count Inversion',20,80.5);''')\n",
    "\n",
    "# insert in different order\n",
    "cnt.execute('''INSERT INTO sensor(ACCURACY, POINTS, NAME) VALUES(\n",
    "90.5, 15, 'Kadanes Algo');''')\n",
    "\n",
    "cnt.execute('''INSERT INTO sensor(NAME, ACCURACY, POINTS) VALUES(\n",
    "'REVERSE STR', 100, 5);''')\n",
    "\n",
    "# commit changes to the database\n",
    "cnt.commit()\n"
   ]
  }
 ],
 "metadata": {
  "kernelspec": {
   "display_name": "env",
   "language": "python",
   "name": "python3"
  },
  "language_info": {
   "codemirror_mode": {
    "name": "ipython",
    "version": 3
   },
   "file_extension": ".py",
   "mimetype": "text/x-python",
   "name": "python",
   "nbconvert_exporter": "python",
   "pygments_lexer": "ipython3",
   "version": "3.10.0"
  },
  "orig_nbformat": 4,
  "vscode": {
   "interpreter": {
    "hash": "18390edc9a643f248f9f87c8385b8eec0c5a27d5a613c4ac37f7b77e579845c9"
   }
  }
 },
 "nbformat": 4,
 "nbformat_minor": 2
}
