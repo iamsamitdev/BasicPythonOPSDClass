{
 "cells": [
  {
   "cell_type": "code",
   "execution_count": null,
   "metadata": {},
   "outputs": [],
   "source": [
    "# Python code to create a relation\n",
    "# using SQLite3\n",
    "\n",
    "# import the sqlite3 package\n",
    "import sqlite3\n",
    "\n",
    "# create a database named backup\n",
    "cnt = sqlite3.connect(\"sampledb.sqlite\")\n",
    "\n",
    "# create a table named gfg\n",
    "cnt.execute(\n",
    "    '''CREATE TABLE sensor(\n",
    "    NAME TEXT,\n",
    "    POINTS INTEGER,\n",
    "    ACCURACY REAL);\n",
    "    '''\n",
    ")\n"
   ]
  }
 ],
 "metadata": {
  "kernelspec": {
   "display_name": "env",
   "language": "python",
   "name": "python3"
  },
  "language_info": {
   "codemirror_mode": {
    "name": "ipython",
    "version": 3
   },
   "file_extension": ".py",
   "mimetype": "text/x-python",
   "name": "python",
   "nbconvert_exporter": "python",
   "pygments_lexer": "ipython3",
   "version": "3.10.0 (tags/v3.10.0:b494f59, Oct  4 2021, 19:00:18) [MSC v.1929 64 bit (AMD64)]"
  },
  "orig_nbformat": 4,
  "vscode": {
   "interpreter": {
    "hash": "18390edc9a643f248f9f87c8385b8eec0c5a27d5a613c4ac37f7b77e579845c9"
   }
  }
 },
 "nbformat": 4,
 "nbformat_minor": 2
}
